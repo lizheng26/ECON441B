{
  "nbformat": 4,
  "nbformat_minor": 0,
  "metadata": {
    "colab": {
      "provenance": []
    },
    "kernelspec": {
      "name": "python3",
      "display_name": "Python 3"
    },
    "language_info": {
      "name": "python"
    }
  },
  "cells": [
    {
      "cell_type": "markdown",
      "source": [
        "# 0.) Import the US Perminent Visas using zip extractor"
      ],
      "metadata": {
        "id": "7ywSRtNI4s5h"
      }
    },
    {
      "cell_type": "code",
      "execution_count": 1,
      "metadata": {
        "id": "nsG1QV154GYZ"
      },
      "outputs": [],
      "source": [
        "import pandas as pd\n",
        "from google.colab import drive\n",
        "import matplotlib.pyplot as plt\n",
        "import numpy as np"
      ]
    },
    {
      "cell_type": "code",
      "source": [
        "drive.mount('/content/gdrive/', force_remount = True)"
      ],
      "metadata": {
        "colab": {
          "base_uri": "https://localhost:8080/"
        },
        "id": "Iku0T8Ou4Lcu",
        "outputId": "cafceffc-56e2-4458-bfa4-a7ee706f8731"
      },
      "execution_count": 2,
      "outputs": [
        {
          "output_type": "stream",
          "name": "stdout",
          "text": [
            "Mounted at /content/gdrive/\n"
          ]
        }
      ]
    },
    {
      "cell_type": "code",
      "source": [
        "import zipfile\n",
        "\n",
        "zf = zipfile.ZipFile(\"/content/gdrive/MyDrive/ECON 441B/us_perm_visas.csv.zip\") \n",
        "df = pd.read_csv(zf.open('us_perm_visas.csv'))"
      ],
      "metadata": {
        "colab": {
          "base_uri": "https://localhost:8080/"
        },
        "id": "Q7XmCWs_rULl",
        "outputId": "b238adc2-155b-4c91-a394-8f7cc063db3e"
      },
      "execution_count": 3,
      "outputs": [
        {
          "output_type": "stream",
          "name": "stderr",
          "text": [
            "/usr/local/lib/python3.8/dist-packages/IPython/core/interactiveshell.py:3326: DtypeWarning: Columns (0,1,2,3,4,5,6,7,10,11,16,17,20,21,22,25,26,27,28,29,30,31,32,33,34,35,36,37,39,40,41,42,43,44,45,47,48,49,50,51,52,53,55,56,57,58,59,60,61,63,64,65,66,68,69,70,71,72,73,74,77,79,80,81,82,83,84,85,86,87,88,89,90,91,92,93,94,95,100,101,103,104,105,106,107,108,109,110,111,112,113,114,115,116,117,118,119,120,121,122,123,124,125,126,127,128,129,130,131,132,133,134,135,136,137,138,139,140,141,142,143,144,145,146,147,148,149,150,153) have mixed types.Specify dtype option on import or set low_memory=False.\n",
            "  exec(code_obj, self.user_global_ns, self.user_ns)\n"
          ]
        }
      ]
    },
    {
      "cell_type": "code",
      "source": [
        "df.head()"
      ],
      "metadata": {
        "id": "KJQfo8mz43Kz",
        "colab": {
          "base_uri": "https://localhost:8080/",
          "height": 473
        },
        "outputId": "6cb5cd02-1c5c-4f2c-db46-6b8b378f946a"
      },
      "execution_count": 4,
      "outputs": [
        {
          "output_type": "execute_result",
          "data": {
            "text/plain": [
              "  add_these_pw_job_title_9089 agent_city agent_firm_name agent_state  \\\n",
              "0                         NaN        NaN             NaN         NaN   \n",
              "1                         NaN        NaN             NaN         NaN   \n",
              "2                         NaN        NaN             NaN         NaN   \n",
              "3                         NaN        NaN             NaN         NaN   \n",
              "4                         NaN        NaN             NaN         NaN   \n",
              "\n",
              "  application_type        case_no case_number case_received_date case_status  \\\n",
              "0             PERM  A-07323-97014         NaN                NaN   Certified   \n",
              "1             PERM  A-07332-99439         NaN                NaN      Denied   \n",
              "2             PERM  A-07333-99643         NaN                NaN   Certified   \n",
              "3             PERM  A-07339-01930         NaN                NaN   Certified   \n",
              "4             PERM  A-07345-03565         NaN                NaN   Certified   \n",
              "\n",
              "  class_of_admission  ... ri_pvt_employment_firm_to ri_us_workers_considered  \\\n",
              "0                J-1  ...                       NaN                      NaN   \n",
              "1                B-2  ...                       NaN                      NaN   \n",
              "2               H-1B  ...                       NaN                      NaN   \n",
              "3                B-2  ...                       NaN                      NaN   \n",
              "4                L-1  ...                       NaN                      NaN   \n",
              "\n",
              "  schd_a_sheepherder     us_economic_sector wage_offer_from_9089  \\\n",
              "0                NaN                     IT              75629.0   \n",
              "1                NaN  Other Economic Sector              37024.0   \n",
              "2                NaN              Aerospace              47923.0   \n",
              "3                NaN  Other Economic Sector                10.97   \n",
              "4                NaN           Advanced Mfg             100000.0   \n",
              "\n",
              "  wage_offer_to_9089 wage_offer_unit_of_pay_9089 wage_offered_from_9089  \\\n",
              "0                NaN                          yr                    NaN   \n",
              "1                NaN                          yr                    NaN   \n",
              "2                NaN                          yr                    NaN   \n",
              "3                NaN                          hr                    NaN   \n",
              "4                NaN                          yr                    NaN   \n",
              "\n",
              "  wage_offered_to_9089  wage_offered_unit_of_pay_9089  \n",
              "0                  NaN                            NaN  \n",
              "1                  NaN                            NaN  \n",
              "2                  NaN                            NaN  \n",
              "3                  NaN                            NaN  \n",
              "4                  NaN                            NaN  \n",
              "\n",
              "[5 rows x 154 columns]"
            ],
            "text/html": [
              "\n",
              "  <div id=\"df-90745621-c2a1-4a4a-997b-9c9c9684bea1\">\n",
              "    <div class=\"colab-df-container\">\n",
              "      <div>\n",
              "<style scoped>\n",
              "    .dataframe tbody tr th:only-of-type {\n",
              "        vertical-align: middle;\n",
              "    }\n",
              "\n",
              "    .dataframe tbody tr th {\n",
              "        vertical-align: top;\n",
              "    }\n",
              "\n",
              "    .dataframe thead th {\n",
              "        text-align: right;\n",
              "    }\n",
              "</style>\n",
              "<table border=\"1\" class=\"dataframe\">\n",
              "  <thead>\n",
              "    <tr style=\"text-align: right;\">\n",
              "      <th></th>\n",
              "      <th>add_these_pw_job_title_9089</th>\n",
              "      <th>agent_city</th>\n",
              "      <th>agent_firm_name</th>\n",
              "      <th>agent_state</th>\n",
              "      <th>application_type</th>\n",
              "      <th>case_no</th>\n",
              "      <th>case_number</th>\n",
              "      <th>case_received_date</th>\n",
              "      <th>case_status</th>\n",
              "      <th>class_of_admission</th>\n",
              "      <th>...</th>\n",
              "      <th>ri_pvt_employment_firm_to</th>\n",
              "      <th>ri_us_workers_considered</th>\n",
              "      <th>schd_a_sheepherder</th>\n",
              "      <th>us_economic_sector</th>\n",
              "      <th>wage_offer_from_9089</th>\n",
              "      <th>wage_offer_to_9089</th>\n",
              "      <th>wage_offer_unit_of_pay_9089</th>\n",
              "      <th>wage_offered_from_9089</th>\n",
              "      <th>wage_offered_to_9089</th>\n",
              "      <th>wage_offered_unit_of_pay_9089</th>\n",
              "    </tr>\n",
              "  </thead>\n",
              "  <tbody>\n",
              "    <tr>\n",
              "      <th>0</th>\n",
              "      <td>NaN</td>\n",
              "      <td>NaN</td>\n",
              "      <td>NaN</td>\n",
              "      <td>NaN</td>\n",
              "      <td>PERM</td>\n",
              "      <td>A-07323-97014</td>\n",
              "      <td>NaN</td>\n",
              "      <td>NaN</td>\n",
              "      <td>Certified</td>\n",
              "      <td>J-1</td>\n",
              "      <td>...</td>\n",
              "      <td>NaN</td>\n",
              "      <td>NaN</td>\n",
              "      <td>NaN</td>\n",
              "      <td>IT</td>\n",
              "      <td>75629.0</td>\n",
              "      <td>NaN</td>\n",
              "      <td>yr</td>\n",
              "      <td>NaN</td>\n",
              "      <td>NaN</td>\n",
              "      <td>NaN</td>\n",
              "    </tr>\n",
              "    <tr>\n",
              "      <th>1</th>\n",
              "      <td>NaN</td>\n",
              "      <td>NaN</td>\n",
              "      <td>NaN</td>\n",
              "      <td>NaN</td>\n",
              "      <td>PERM</td>\n",
              "      <td>A-07332-99439</td>\n",
              "      <td>NaN</td>\n",
              "      <td>NaN</td>\n",
              "      <td>Denied</td>\n",
              "      <td>B-2</td>\n",
              "      <td>...</td>\n",
              "      <td>NaN</td>\n",
              "      <td>NaN</td>\n",
              "      <td>NaN</td>\n",
              "      <td>Other Economic Sector</td>\n",
              "      <td>37024.0</td>\n",
              "      <td>NaN</td>\n",
              "      <td>yr</td>\n",
              "      <td>NaN</td>\n",
              "      <td>NaN</td>\n",
              "      <td>NaN</td>\n",
              "    </tr>\n",
              "    <tr>\n",
              "      <th>2</th>\n",
              "      <td>NaN</td>\n",
              "      <td>NaN</td>\n",
              "      <td>NaN</td>\n",
              "      <td>NaN</td>\n",
              "      <td>PERM</td>\n",
              "      <td>A-07333-99643</td>\n",
              "      <td>NaN</td>\n",
              "      <td>NaN</td>\n",
              "      <td>Certified</td>\n",
              "      <td>H-1B</td>\n",
              "      <td>...</td>\n",
              "      <td>NaN</td>\n",
              "      <td>NaN</td>\n",
              "      <td>NaN</td>\n",
              "      <td>Aerospace</td>\n",
              "      <td>47923.0</td>\n",
              "      <td>NaN</td>\n",
              "      <td>yr</td>\n",
              "      <td>NaN</td>\n",
              "      <td>NaN</td>\n",
              "      <td>NaN</td>\n",
              "    </tr>\n",
              "    <tr>\n",
              "      <th>3</th>\n",
              "      <td>NaN</td>\n",
              "      <td>NaN</td>\n",
              "      <td>NaN</td>\n",
              "      <td>NaN</td>\n",
              "      <td>PERM</td>\n",
              "      <td>A-07339-01930</td>\n",
              "      <td>NaN</td>\n",
              "      <td>NaN</td>\n",
              "      <td>Certified</td>\n",
              "      <td>B-2</td>\n",
              "      <td>...</td>\n",
              "      <td>NaN</td>\n",
              "      <td>NaN</td>\n",
              "      <td>NaN</td>\n",
              "      <td>Other Economic Sector</td>\n",
              "      <td>10.97</td>\n",
              "      <td>NaN</td>\n",
              "      <td>hr</td>\n",
              "      <td>NaN</td>\n",
              "      <td>NaN</td>\n",
              "      <td>NaN</td>\n",
              "    </tr>\n",
              "    <tr>\n",
              "      <th>4</th>\n",
              "      <td>NaN</td>\n",
              "      <td>NaN</td>\n",
              "      <td>NaN</td>\n",
              "      <td>NaN</td>\n",
              "      <td>PERM</td>\n",
              "      <td>A-07345-03565</td>\n",
              "      <td>NaN</td>\n",
              "      <td>NaN</td>\n",
              "      <td>Certified</td>\n",
              "      <td>L-1</td>\n",
              "      <td>...</td>\n",
              "      <td>NaN</td>\n",
              "      <td>NaN</td>\n",
              "      <td>NaN</td>\n",
              "      <td>Advanced Mfg</td>\n",
              "      <td>100000.0</td>\n",
              "      <td>NaN</td>\n",
              "      <td>yr</td>\n",
              "      <td>NaN</td>\n",
              "      <td>NaN</td>\n",
              "      <td>NaN</td>\n",
              "    </tr>\n",
              "  </tbody>\n",
              "</table>\n",
              "<p>5 rows × 154 columns</p>\n",
              "</div>\n",
              "      <button class=\"colab-df-convert\" onclick=\"convertToInteractive('df-90745621-c2a1-4a4a-997b-9c9c9684bea1')\"\n",
              "              title=\"Convert this dataframe to an interactive table.\"\n",
              "              style=\"display:none;\">\n",
              "        \n",
              "  <svg xmlns=\"http://www.w3.org/2000/svg\" height=\"24px\"viewBox=\"0 0 24 24\"\n",
              "       width=\"24px\">\n",
              "    <path d=\"M0 0h24v24H0V0z\" fill=\"none\"/>\n",
              "    <path d=\"M18.56 5.44l.94 2.06.94-2.06 2.06-.94-2.06-.94-.94-2.06-.94 2.06-2.06.94zm-11 1L8.5 8.5l.94-2.06 2.06-.94-2.06-.94L8.5 2.5l-.94 2.06-2.06.94zm10 10l.94 2.06.94-2.06 2.06-.94-2.06-.94-.94-2.06-.94 2.06-2.06.94z\"/><path d=\"M17.41 7.96l-1.37-1.37c-.4-.4-.92-.59-1.43-.59-.52 0-1.04.2-1.43.59L10.3 9.45l-7.72 7.72c-.78.78-.78 2.05 0 2.83L4 21.41c.39.39.9.59 1.41.59.51 0 1.02-.2 1.41-.59l7.78-7.78 2.81-2.81c.8-.78.8-2.07 0-2.86zM5.41 20L4 18.59l7.72-7.72 1.47 1.35L5.41 20z\"/>\n",
              "  </svg>\n",
              "      </button>\n",
              "      \n",
              "  <style>\n",
              "    .colab-df-container {\n",
              "      display:flex;\n",
              "      flex-wrap:wrap;\n",
              "      gap: 12px;\n",
              "    }\n",
              "\n",
              "    .colab-df-convert {\n",
              "      background-color: #E8F0FE;\n",
              "      border: none;\n",
              "      border-radius: 50%;\n",
              "      cursor: pointer;\n",
              "      display: none;\n",
              "      fill: #1967D2;\n",
              "      height: 32px;\n",
              "      padding: 0 0 0 0;\n",
              "      width: 32px;\n",
              "    }\n",
              "\n",
              "    .colab-df-convert:hover {\n",
              "      background-color: #E2EBFA;\n",
              "      box-shadow: 0px 1px 2px rgba(60, 64, 67, 0.3), 0px 1px 3px 1px rgba(60, 64, 67, 0.15);\n",
              "      fill: #174EA6;\n",
              "    }\n",
              "\n",
              "    [theme=dark] .colab-df-convert {\n",
              "      background-color: #3B4455;\n",
              "      fill: #D2E3FC;\n",
              "    }\n",
              "\n",
              "    [theme=dark] .colab-df-convert:hover {\n",
              "      background-color: #434B5C;\n",
              "      box-shadow: 0px 1px 3px 1px rgba(0, 0, 0, 0.15);\n",
              "      filter: drop-shadow(0px 1px 2px rgba(0, 0, 0, 0.3));\n",
              "      fill: #FFFFFF;\n",
              "    }\n",
              "  </style>\n",
              "\n",
              "      <script>\n",
              "        const buttonEl =\n",
              "          document.querySelector('#df-90745621-c2a1-4a4a-997b-9c9c9684bea1 button.colab-df-convert');\n",
              "        buttonEl.style.display =\n",
              "          google.colab.kernel.accessAllowed ? 'block' : 'none';\n",
              "\n",
              "        async function convertToInteractive(key) {\n",
              "          const element = document.querySelector('#df-90745621-c2a1-4a4a-997b-9c9c9684bea1');\n",
              "          const dataTable =\n",
              "            await google.colab.kernel.invokeFunction('convertToInteractive',\n",
              "                                                     [key], {});\n",
              "          if (!dataTable) return;\n",
              "\n",
              "          const docLinkHtml = 'Like what you see? Visit the ' +\n",
              "            '<a target=\"_blank\" href=https://colab.research.google.com/notebooks/data_table.ipynb>data table notebook</a>'\n",
              "            + ' to learn more about interactive tables.';\n",
              "          element.innerHTML = '';\n",
              "          dataTable['output_type'] = 'display_data';\n",
              "          await google.colab.output.renderOutput(dataTable, element);\n",
              "          const docLink = document.createElement('div');\n",
              "          docLink.innerHTML = docLinkHtml;\n",
              "          element.appendChild(docLink);\n",
              "        }\n",
              "      </script>\n",
              "    </div>\n",
              "  </div>\n",
              "  "
            ]
          },
          "metadata": {},
          "execution_count": 4
        }
      ]
    },
    {
      "cell_type": "markdown",
      "source": [
        "# 1.) US perm Visas csv from cycle using zip extractor\n"
      ],
      "metadata": {
        "id": "8VsnpGe9-B3p"
      }
    },
    {
      "cell_type": "code",
      "source": [
        "for i in df.columns:\n",
        "  print(i)"
      ],
      "metadata": {
        "colab": {
          "base_uri": "https://localhost:8080/"
        },
        "id": "OYab28A_6KP6",
        "outputId": "c12a9782-12b7-4a7d-d0bd-d5086102e44f"
      },
      "execution_count": 6,
      "outputs": [
        {
          "output_type": "stream",
          "name": "stdout",
          "text": [
            "add_these_pw_job_title_9089\n",
            "agent_city\n",
            "agent_firm_name\n",
            "agent_state\n",
            "application_type\n",
            "case_no\n",
            "case_number\n",
            "case_received_date\n",
            "case_status\n",
            "class_of_admission\n",
            "country_of_citizenship\n",
            "country_of_citzenship\n",
            "decision_date\n",
            "employer_address_1\n",
            "employer_address_2\n",
            "employer_city\n",
            "employer_country\n",
            "employer_decl_info_title\n",
            "employer_name\n",
            "employer_num_employees\n",
            "employer_phone\n",
            "employer_phone_ext\n",
            "employer_postal_code\n",
            "employer_state\n",
            "employer_yr_estab\n",
            "foreign_worker_info_alt_edu_experience\n",
            "foreign_worker_info_birth_country\n",
            "foreign_worker_info_city\n",
            "foreign_worker_info_education\n",
            "foreign_worker_info_education_other\n",
            "foreign_worker_info_inst\n",
            "foreign_worker_info_major\n",
            "foreign_worker_info_postal_code\n",
            "foreign_worker_info_rel_occup_exp\n",
            "foreign_worker_info_req_experience\n",
            "foreign_worker_info_state\n",
            "foreign_worker_info_training_comp\n",
            "foreign_worker_ownership_interest\n",
            "foreign_worker_yr_rel_edu_completed\n",
            "fw_info_alt_edu_experience\n",
            "fw_info_birth_country\n",
            "fw_info_education_other\n",
            "fw_info_postal_code\n",
            "fw_info_rel_occup_exp\n",
            "fw_info_req_experience\n",
            "fw_info_training_comp\n",
            "fw_info_yr_rel_edu_completed\n",
            "fw_ownership_interest\n",
            "ji_foreign_worker_live_on_premises\n",
            "ji_fw_live_on_premises\n",
            "ji_live_in_dom_svc_contract\n",
            "ji_live_in_domestic_service\n",
            "ji_offered_to_sec_j_foreign_worker\n",
            "ji_offered_to_sec_j_fw\n",
            "job_info_alt_cmb_ed_oth_yrs\n",
            "job_info_alt_combo_ed\n",
            "job_info_alt_combo_ed_exp\n",
            "job_info_alt_combo_ed_other\n",
            "job_info_alt_field\n",
            "job_info_alt_field_name\n",
            "job_info_alt_occ\n",
            "job_info_alt_occ_job_title\n",
            "job_info_alt_occ_num_months\n",
            "job_info_combo_occupation\n",
            "job_info_education\n",
            "job_info_education_other\n",
            "job_info_experience\n",
            "job_info_experience_num_months\n",
            "job_info_foreign_ed\n",
            "job_info_foreign_lang_req\n",
            "job_info_job_req_normal\n",
            "job_info_job_title\n",
            "job_info_major\n",
            "job_info_training\n",
            "job_info_training_field\n",
            "job_info_training_num_months\n",
            "job_info_work_city\n",
            "job_info_work_postal_code\n",
            "job_info_work_state\n",
            "naics_2007_us_code\n",
            "naics_2007_us_title\n",
            "naics_code\n",
            "naics_title\n",
            "naics_us_code\n",
            "naics_us_code_2007\n",
            "naics_us_title\n",
            "naics_us_title_2007\n",
            "orig_case_no\n",
            "orig_file_date\n",
            "preparer_info_emp_completed\n",
            "preparer_info_title\n",
            "pw_amount_9089\n",
            "pw_determ_date\n",
            "pw_expire_date\n",
            "pw_job_title_908\n",
            "pw_job_title_9089\n",
            "pw_level_9089\n",
            "pw_soc_code\n",
            "pw_soc_title\n",
            "pw_source_name_9089\n",
            "pw_source_name_other_9089\n",
            "pw_track_num\n",
            "pw_unit_of_pay_9089\n",
            "rec_info_barg_rep_notified\n",
            "recr_info_barg_rep_notified\n",
            "recr_info_coll_teach_comp_proc\n",
            "recr_info_coll_univ_teacher\n",
            "recr_info_employer_rec_payment\n",
            "recr_info_first_ad_start\n",
            "recr_info_job_fair_from\n",
            "recr_info_job_fair_to\n",
            "recr_info_on_campus_recr_from\n",
            "recr_info_on_campus_recr_to\n",
            "recr_info_pro_org_advert_from\n",
            "recr_info_pro_org_advert_to\n",
            "recr_info_prof_org_advert_from\n",
            "recr_info_prof_org_advert_to\n",
            "recr_info_professional_occ\n",
            "recr_info_radio_tv_ad_from\n",
            "recr_info_radio_tv_ad_to\n",
            "recr_info_second_ad_start\n",
            "recr_info_sunday_newspaper\n",
            "recr_info_swa_job_order_end\n",
            "recr_info_swa_job_order_start\n",
            "refile\n",
            "ri_1st_ad_newspaper_name\n",
            "ri_2nd_ad_newspaper_name\n",
            "ri_2nd_ad_newspaper_or_journal\n",
            "ri_campus_placement_from\n",
            "ri_campus_placement_to\n",
            "ri_coll_tch_basic_process\n",
            "ri_coll_teach_pro_jnl\n",
            "ri_coll_teach_select_date\n",
            "ri_employee_referral_prog_from\n",
            "ri_employee_referral_prog_to\n",
            "ri_employer_web_post_from\n",
            "ri_employer_web_post_to\n",
            "ri_job_search_website_from\n",
            "ri_job_search_website_to\n",
            "ri_layoff_in_past_six_months\n",
            "ri_local_ethnic_paper_from\n",
            "ri_local_ethnic_paper_to\n",
            "ri_posted_notice_at_worksite\n",
            "ri_pvt_employment_firm_from\n",
            "ri_pvt_employment_firm_to\n",
            "ri_us_workers_considered\n",
            "schd_a_sheepherder\n",
            "us_economic_sector\n",
            "wage_offer_from_9089\n",
            "wage_offer_to_9089\n",
            "wage_offer_unit_of_pay_9089\n",
            "wage_offered_from_9089\n",
            "wage_offered_to_9089\n",
            "wage_offered_unit_of_pay_9089\n"
          ]
        }
      ]
    },
    {
      "cell_type": "code",
      "source": [
        "df[\"class_of_admission\"].unique()"
      ],
      "metadata": {
        "colab": {
          "base_uri": "https://localhost:8080/"
        },
        "id": "WWlYjT5E6KS5",
        "outputId": "ce88c9b5-6a5f-4017-d9d5-db5ee300ef1b"
      },
      "execution_count": 7,
      "outputs": [
        {
          "output_type": "execute_result",
          "data": {
            "text/plain": [
              "array(['J-1', 'B-2', 'H-1B', 'L-1', 'EWI', 'E-2', nan, 'E-1', 'H-2B',\n",
              "       'TPS', 'F-1', 'B-1', 'C-1', 'Not in USA', 'TN', 'H-4', 'O-1',\n",
              "       'R-1', 'L-2', 'Q', 'F-2', 'H-1B1', 'Parolee', 'G-5', 'E-3', 'H-2A',\n",
              "       'VWT', 'P-1', 'A1/A2', 'D-1', 'A-3', 'R-2', 'H-1C', 'H-3', 'J-2',\n",
              "       'P-4', 'I', 'H-1A', 'G-1', 'VWB', 'G-4', 'P-3', 'AOS/H-1B', 'O-3',\n",
              "       'Parol', 'O-2', 'H1B', 'N', 'T-1', 'TD', 'M-1', 'K-1', 'U-1',\n",
              "       'AOS', 'P-2', 'C-3', 'V-2', 'M-2'], dtype=object)"
            ]
          },
          "metadata": {},
          "execution_count": 7
        }
      ]
    },
    {
      "cell_type": "markdown",
      "source": [
        "# 2.) Choose 4 features you think are important. Case_status is your target variable\n"
      ],
      "metadata": {
        "id": "lbkpNPyN-Gnk"
      }
    },
    {
      "cell_type": "code",
      "source": [
        "df_select = df[[\"case_status\", \"class_of_admission\", \"wage_offer_from_9089\", \"job_info_education\", \"employer_yr_estab\"]]"
      ],
      "metadata": {
        "id": "cNu6ysyV988v"
      },
      "execution_count": 8,
      "outputs": []
    },
    {
      "cell_type": "markdown",
      "source": [
        "# 3.) Clean your data for a decision tree\n"
      ],
      "metadata": {
        "id": "bIJx2jvD-KEI"
      }
    },
    {
      "cell_type": "code",
      "source": [
        "dummies = pd.get_dummies(df_select[\"class_of_admission\"])\n",
        "dummies2 = pd.get_dummies(df_select[\"job_info_education\"])\n",
        "X = pd.concat([dummies, dummies2, df_select[[\"wage_offer_from_9089\", \"employer_yr_estab\"]]], axis = 1)\n",
        "# X['wage_offer_from_9089'] = pd.to_numeric(X['wage_offer_from_9089'])\n",
        "# X = X.drop(labels=135269, axis=0)\n",
        "# X = X.drop(labels=135270, axis=0)\n",
        "y = df[\"case_status\"]"
      ],
      "metadata": {
        "id": "-oMmcLfj4x97"
      },
      "execution_count": 9,
      "outputs": []
    },
    {
      "cell_type": "code",
      "source": [
        "cleanX = X[\"wage_offer_from_9089\"].apply(lambda x: pd.to_numeric(x, errors='coerce')).dropna()"
      ],
      "metadata": {
        "id": "YOzdVj3UCMyO"
      },
      "execution_count": 10,
      "outputs": []
    },
    {
      "cell_type": "code",
      "source": [
        "cleanX = X.loc[list(cleanX.index)]"
      ],
      "metadata": {
        "id": "ujxMhmw6Cc07"
      },
      "execution_count": 11,
      "outputs": []
    },
    {
      "cell_type": "code",
      "source": [
        "cleanX = cleanX.dropna()"
      ],
      "metadata": {
        "id": "dRlWV7aDEdwN"
      },
      "execution_count": 12,
      "outputs": []
    },
    {
      "cell_type": "code",
      "source": [
        "cleanX"
      ],
      "metadata": {
        "colab": {
          "base_uri": "https://localhost:8080/",
          "height": 505
        },
        "id": "z0VaiP2J8Cvo",
        "outputId": "ffa3ef11-6bba-47c2-d7ea-1abe52776cb7"
      },
      "execution_count": 13,
      "outputs": [
        {
          "output_type": "execute_result",
          "data": {
            "text/plain": [
              "        A-3  A1/A2  AOS  AOS/H-1B  B-1  B-2  C-1  C-3  D-1  E-1  ...  VWT  \\\n",
              "135297    0      0    0         0    0    0    0    0    0    0  ...    0   \n",
              "135308    0      0    0         0    0    0    0    0    0    0  ...    0   \n",
              "135329    0      0    0         0    0    0    0    0    0    0  ...    0   \n",
              "135341    0      0    0         0    0    0    0    0    0    0  ...    0   \n",
              "135372    0      0    0         0    0    0    0    0    0    0  ...    0   \n",
              "...     ...    ...  ...       ...  ...  ...  ...  ...  ...  ...  ...  ...   \n",
              "374195    0      0    0         0    0    0    0    0    0    0  ...    0   \n",
              "374200    0      0    0         0    0    0    0    0    0    0  ...    0   \n",
              "374227    0      0    0         0    0    0    0    0    0    0  ...    0   \n",
              "374243    0      0    0         0    0    0    0    0    0    0  ...    0   \n",
              "374294    0      0    0         0    0    0    0    0    0    0  ...    0   \n",
              "\n",
              "        Associate's  Bachelor's  Doctorate  High School  Master's  None  \\\n",
              "135297            0           0          0            0         0     1   \n",
              "135308            0           0          0            1         0     0   \n",
              "135329            0           0          0            0         0     1   \n",
              "135341            0           0          0            0         0     1   \n",
              "135372            0           0          0            0         0     1   \n",
              "...             ...         ...        ...          ...       ...   ...   \n",
              "374195            0           0          0            1         0     0   \n",
              "374200            0           0          0            1         0     0   \n",
              "374227            0           0          0            0         0     1   \n",
              "374243            0           0          0            1         0     0   \n",
              "374294            0           0          0            0         1     0   \n",
              "\n",
              "        Other  wage_offer_from_9089  employer_yr_estab  \n",
              "135297      0                 10.00             1994.0  \n",
              "135308      0                 14.01             1974.0  \n",
              "135329      0                  9.51             1997.0  \n",
              "135341      0                  8.41             2000.0  \n",
              "135372      0                  7.85             1975.0  \n",
              "...       ...                   ...                ...  \n",
              "374195      0                 77.70             2014.0  \n",
              "374200      0                 29.24             1994.0  \n",
              "374227      0                  9.70             1958.0  \n",
              "374243      0                 10.40             1992.0  \n",
              "374294      0                 16.92             2003.0  \n",
              "\n",
              "[128999 rows x 66 columns]"
            ],
            "text/html": [
              "\n",
              "  <div id=\"df-9f9b959f-9b10-40ca-b475-8596ea22e8c7\">\n",
              "    <div class=\"colab-df-container\">\n",
              "      <div>\n",
              "<style scoped>\n",
              "    .dataframe tbody tr th:only-of-type {\n",
              "        vertical-align: middle;\n",
              "    }\n",
              "\n",
              "    .dataframe tbody tr th {\n",
              "        vertical-align: top;\n",
              "    }\n",
              "\n",
              "    .dataframe thead th {\n",
              "        text-align: right;\n",
              "    }\n",
              "</style>\n",
              "<table border=\"1\" class=\"dataframe\">\n",
              "  <thead>\n",
              "    <tr style=\"text-align: right;\">\n",
              "      <th></th>\n",
              "      <th>A-3</th>\n",
              "      <th>A1/A2</th>\n",
              "      <th>AOS</th>\n",
              "      <th>AOS/H-1B</th>\n",
              "      <th>B-1</th>\n",
              "      <th>B-2</th>\n",
              "      <th>C-1</th>\n",
              "      <th>C-3</th>\n",
              "      <th>D-1</th>\n",
              "      <th>E-1</th>\n",
              "      <th>...</th>\n",
              "      <th>VWT</th>\n",
              "      <th>Associate's</th>\n",
              "      <th>Bachelor's</th>\n",
              "      <th>Doctorate</th>\n",
              "      <th>High School</th>\n",
              "      <th>Master's</th>\n",
              "      <th>None</th>\n",
              "      <th>Other</th>\n",
              "      <th>wage_offer_from_9089</th>\n",
              "      <th>employer_yr_estab</th>\n",
              "    </tr>\n",
              "  </thead>\n",
              "  <tbody>\n",
              "    <tr>\n",
              "      <th>135297</th>\n",
              "      <td>0</td>\n",
              "      <td>0</td>\n",
              "      <td>0</td>\n",
              "      <td>0</td>\n",
              "      <td>0</td>\n",
              "      <td>0</td>\n",
              "      <td>0</td>\n",
              "      <td>0</td>\n",
              "      <td>0</td>\n",
              "      <td>0</td>\n",
              "      <td>...</td>\n",
              "      <td>0</td>\n",
              "      <td>0</td>\n",
              "      <td>0</td>\n",
              "      <td>0</td>\n",
              "      <td>0</td>\n",
              "      <td>0</td>\n",
              "      <td>1</td>\n",
              "      <td>0</td>\n",
              "      <td>10.00</td>\n",
              "      <td>1994.0</td>\n",
              "    </tr>\n",
              "    <tr>\n",
              "      <th>135308</th>\n",
              "      <td>0</td>\n",
              "      <td>0</td>\n",
              "      <td>0</td>\n",
              "      <td>0</td>\n",
              "      <td>0</td>\n",
              "      <td>0</td>\n",
              "      <td>0</td>\n",
              "      <td>0</td>\n",
              "      <td>0</td>\n",
              "      <td>0</td>\n",
              "      <td>...</td>\n",
              "      <td>0</td>\n",
              "      <td>0</td>\n",
              "      <td>0</td>\n",
              "      <td>0</td>\n",
              "      <td>1</td>\n",
              "      <td>0</td>\n",
              "      <td>0</td>\n",
              "      <td>0</td>\n",
              "      <td>14.01</td>\n",
              "      <td>1974.0</td>\n",
              "    </tr>\n",
              "    <tr>\n",
              "      <th>135329</th>\n",
              "      <td>0</td>\n",
              "      <td>0</td>\n",
              "      <td>0</td>\n",
              "      <td>0</td>\n",
              "      <td>0</td>\n",
              "      <td>0</td>\n",
              "      <td>0</td>\n",
              "      <td>0</td>\n",
              "      <td>0</td>\n",
              "      <td>0</td>\n",
              "      <td>...</td>\n",
              "      <td>0</td>\n",
              "      <td>0</td>\n",
              "      <td>0</td>\n",
              "      <td>0</td>\n",
              "      <td>0</td>\n",
              "      <td>0</td>\n",
              "      <td>1</td>\n",
              "      <td>0</td>\n",
              "      <td>9.51</td>\n",
              "      <td>1997.0</td>\n",
              "    </tr>\n",
              "    <tr>\n",
              "      <th>135341</th>\n",
              "      <td>0</td>\n",
              "      <td>0</td>\n",
              "      <td>0</td>\n",
              "      <td>0</td>\n",
              "      <td>0</td>\n",
              "      <td>0</td>\n",
              "      <td>0</td>\n",
              "      <td>0</td>\n",
              "      <td>0</td>\n",
              "      <td>0</td>\n",
              "      <td>...</td>\n",
              "      <td>0</td>\n",
              "      <td>0</td>\n",
              "      <td>0</td>\n",
              "      <td>0</td>\n",
              "      <td>0</td>\n",
              "      <td>0</td>\n",
              "      <td>1</td>\n",
              "      <td>0</td>\n",
              "      <td>8.41</td>\n",
              "      <td>2000.0</td>\n",
              "    </tr>\n",
              "    <tr>\n",
              "      <th>135372</th>\n",
              "      <td>0</td>\n",
              "      <td>0</td>\n",
              "      <td>0</td>\n",
              "      <td>0</td>\n",
              "      <td>0</td>\n",
              "      <td>0</td>\n",
              "      <td>0</td>\n",
              "      <td>0</td>\n",
              "      <td>0</td>\n",
              "      <td>0</td>\n",
              "      <td>...</td>\n",
              "      <td>0</td>\n",
              "      <td>0</td>\n",
              "      <td>0</td>\n",
              "      <td>0</td>\n",
              "      <td>0</td>\n",
              "      <td>0</td>\n",
              "      <td>1</td>\n",
              "      <td>0</td>\n",
              "      <td>7.85</td>\n",
              "      <td>1975.0</td>\n",
              "    </tr>\n",
              "    <tr>\n",
              "      <th>...</th>\n",
              "      <td>...</td>\n",
              "      <td>...</td>\n",
              "      <td>...</td>\n",
              "      <td>...</td>\n",
              "      <td>...</td>\n",
              "      <td>...</td>\n",
              "      <td>...</td>\n",
              "      <td>...</td>\n",
              "      <td>...</td>\n",
              "      <td>...</td>\n",
              "      <td>...</td>\n",
              "      <td>...</td>\n",
              "      <td>...</td>\n",
              "      <td>...</td>\n",
              "      <td>...</td>\n",
              "      <td>...</td>\n",
              "      <td>...</td>\n",
              "      <td>...</td>\n",
              "      <td>...</td>\n",
              "      <td>...</td>\n",
              "      <td>...</td>\n",
              "    </tr>\n",
              "    <tr>\n",
              "      <th>374195</th>\n",
              "      <td>0</td>\n",
              "      <td>0</td>\n",
              "      <td>0</td>\n",
              "      <td>0</td>\n",
              "      <td>0</td>\n",
              "      <td>0</td>\n",
              "      <td>0</td>\n",
              "      <td>0</td>\n",
              "      <td>0</td>\n",
              "      <td>0</td>\n",
              "      <td>...</td>\n",
              "      <td>0</td>\n",
              "      <td>0</td>\n",
              "      <td>0</td>\n",
              "      <td>0</td>\n",
              "      <td>1</td>\n",
              "      <td>0</td>\n",
              "      <td>0</td>\n",
              "      <td>0</td>\n",
              "      <td>77.70</td>\n",
              "      <td>2014.0</td>\n",
              "    </tr>\n",
              "    <tr>\n",
              "      <th>374200</th>\n",
              "      <td>0</td>\n",
              "      <td>0</td>\n",
              "      <td>0</td>\n",
              "      <td>0</td>\n",
              "      <td>0</td>\n",
              "      <td>0</td>\n",
              "      <td>0</td>\n",
              "      <td>0</td>\n",
              "      <td>0</td>\n",
              "      <td>0</td>\n",
              "      <td>...</td>\n",
              "      <td>0</td>\n",
              "      <td>0</td>\n",
              "      <td>0</td>\n",
              "      <td>0</td>\n",
              "      <td>1</td>\n",
              "      <td>0</td>\n",
              "      <td>0</td>\n",
              "      <td>0</td>\n",
              "      <td>29.24</td>\n",
              "      <td>1994.0</td>\n",
              "    </tr>\n",
              "    <tr>\n",
              "      <th>374227</th>\n",
              "      <td>0</td>\n",
              "      <td>0</td>\n",
              "      <td>0</td>\n",
              "      <td>0</td>\n",
              "      <td>0</td>\n",
              "      <td>0</td>\n",
              "      <td>0</td>\n",
              "      <td>0</td>\n",
              "      <td>0</td>\n",
              "      <td>0</td>\n",
              "      <td>...</td>\n",
              "      <td>0</td>\n",
              "      <td>0</td>\n",
              "      <td>0</td>\n",
              "      <td>0</td>\n",
              "      <td>0</td>\n",
              "      <td>0</td>\n",
              "      <td>1</td>\n",
              "      <td>0</td>\n",
              "      <td>9.70</td>\n",
              "      <td>1958.0</td>\n",
              "    </tr>\n",
              "    <tr>\n",
              "      <th>374243</th>\n",
              "      <td>0</td>\n",
              "      <td>0</td>\n",
              "      <td>0</td>\n",
              "      <td>0</td>\n",
              "      <td>0</td>\n",
              "      <td>0</td>\n",
              "      <td>0</td>\n",
              "      <td>0</td>\n",
              "      <td>0</td>\n",
              "      <td>0</td>\n",
              "      <td>...</td>\n",
              "      <td>0</td>\n",
              "      <td>0</td>\n",
              "      <td>0</td>\n",
              "      <td>0</td>\n",
              "      <td>1</td>\n",
              "      <td>0</td>\n",
              "      <td>0</td>\n",
              "      <td>0</td>\n",
              "      <td>10.40</td>\n",
              "      <td>1992.0</td>\n",
              "    </tr>\n",
              "    <tr>\n",
              "      <th>374294</th>\n",
              "      <td>0</td>\n",
              "      <td>0</td>\n",
              "      <td>0</td>\n",
              "      <td>0</td>\n",
              "      <td>0</td>\n",
              "      <td>0</td>\n",
              "      <td>0</td>\n",
              "      <td>0</td>\n",
              "      <td>0</td>\n",
              "      <td>0</td>\n",
              "      <td>...</td>\n",
              "      <td>0</td>\n",
              "      <td>0</td>\n",
              "      <td>0</td>\n",
              "      <td>0</td>\n",
              "      <td>0</td>\n",
              "      <td>1</td>\n",
              "      <td>0</td>\n",
              "      <td>0</td>\n",
              "      <td>16.92</td>\n",
              "      <td>2003.0</td>\n",
              "    </tr>\n",
              "  </tbody>\n",
              "</table>\n",
              "<p>128999 rows × 66 columns</p>\n",
              "</div>\n",
              "      <button class=\"colab-df-convert\" onclick=\"convertToInteractive('df-9f9b959f-9b10-40ca-b475-8596ea22e8c7')\"\n",
              "              title=\"Convert this dataframe to an interactive table.\"\n",
              "              style=\"display:none;\">\n",
              "        \n",
              "  <svg xmlns=\"http://www.w3.org/2000/svg\" height=\"24px\"viewBox=\"0 0 24 24\"\n",
              "       width=\"24px\">\n",
              "    <path d=\"M0 0h24v24H0V0z\" fill=\"none\"/>\n",
              "    <path d=\"M18.56 5.44l.94 2.06.94-2.06 2.06-.94-2.06-.94-.94-2.06-.94 2.06-2.06.94zm-11 1L8.5 8.5l.94-2.06 2.06-.94-2.06-.94L8.5 2.5l-.94 2.06-2.06.94zm10 10l.94 2.06.94-2.06 2.06-.94-2.06-.94-.94-2.06-.94 2.06-2.06.94z\"/><path d=\"M17.41 7.96l-1.37-1.37c-.4-.4-.92-.59-1.43-.59-.52 0-1.04.2-1.43.59L10.3 9.45l-7.72 7.72c-.78.78-.78 2.05 0 2.83L4 21.41c.39.39.9.59 1.41.59.51 0 1.02-.2 1.41-.59l7.78-7.78 2.81-2.81c.8-.78.8-2.07 0-2.86zM5.41 20L4 18.59l7.72-7.72 1.47 1.35L5.41 20z\"/>\n",
              "  </svg>\n",
              "      </button>\n",
              "      \n",
              "  <style>\n",
              "    .colab-df-container {\n",
              "      display:flex;\n",
              "      flex-wrap:wrap;\n",
              "      gap: 12px;\n",
              "    }\n",
              "\n",
              "    .colab-df-convert {\n",
              "      background-color: #E8F0FE;\n",
              "      border: none;\n",
              "      border-radius: 50%;\n",
              "      cursor: pointer;\n",
              "      display: none;\n",
              "      fill: #1967D2;\n",
              "      height: 32px;\n",
              "      padding: 0 0 0 0;\n",
              "      width: 32px;\n",
              "    }\n",
              "\n",
              "    .colab-df-convert:hover {\n",
              "      background-color: #E2EBFA;\n",
              "      box-shadow: 0px 1px 2px rgba(60, 64, 67, 0.3), 0px 1px 3px 1px rgba(60, 64, 67, 0.15);\n",
              "      fill: #174EA6;\n",
              "    }\n",
              "\n",
              "    [theme=dark] .colab-df-convert {\n",
              "      background-color: #3B4455;\n",
              "      fill: #D2E3FC;\n",
              "    }\n",
              "\n",
              "    [theme=dark] .colab-df-convert:hover {\n",
              "      background-color: #434B5C;\n",
              "      box-shadow: 0px 1px 3px 1px rgba(0, 0, 0, 0.15);\n",
              "      filter: drop-shadow(0px 1px 2px rgba(0, 0, 0, 0.3));\n",
              "      fill: #FFFFFF;\n",
              "    }\n",
              "  </style>\n",
              "\n",
              "      <script>\n",
              "        const buttonEl =\n",
              "          document.querySelector('#df-9f9b959f-9b10-40ca-b475-8596ea22e8c7 button.colab-df-convert');\n",
              "        buttonEl.style.display =\n",
              "          google.colab.kernel.accessAllowed ? 'block' : 'none';\n",
              "\n",
              "        async function convertToInteractive(key) {\n",
              "          const element = document.querySelector('#df-9f9b959f-9b10-40ca-b475-8596ea22e8c7');\n",
              "          const dataTable =\n",
              "            await google.colab.kernel.invokeFunction('convertToInteractive',\n",
              "                                                     [key], {});\n",
              "          if (!dataTable) return;\n",
              "\n",
              "          const docLinkHtml = 'Like what you see? Visit the ' +\n",
              "            '<a target=\"_blank\" href=https://colab.research.google.com/notebooks/data_table.ipynb>data table notebook</a>'\n",
              "            + ' to learn more about interactive tables.';\n",
              "          element.innerHTML = '';\n",
              "          dataTable['output_type'] = 'display_data';\n",
              "          await google.colab.output.renderOutput(dataTable, element);\n",
              "          const docLink = document.createElement('div');\n",
              "          docLink.innerHTML = docLinkHtml;\n",
              "          element.appendChild(docLink);\n",
              "        }\n",
              "      </script>\n",
              "    </div>\n",
              "  </div>\n",
              "  "
            ]
          },
          "metadata": {},
          "execution_count": 13
        }
      ]
    },
    {
      "cell_type": "code",
      "source": [
        "y = y.loc[list(cleanX.index)]"
      ],
      "metadata": {
        "id": "Zw6JFJr_Eqcb"
      },
      "execution_count": 14,
      "outputs": []
    },
    {
      "cell_type": "code",
      "source": [
        "y"
      ],
      "metadata": {
        "colab": {
          "base_uri": "https://localhost:8080/"
        },
        "id": "aDhGk-HhExGv",
        "outputId": "37ab6700-00f8-4879-fd12-68c413caaee7"
      },
      "execution_count": 15,
      "outputs": [
        {
          "output_type": "execute_result",
          "data": {
            "text/plain": [
              "135297       Denied\n",
              "135308       Denied\n",
              "135329       Denied\n",
              "135341       Denied\n",
              "135372       Denied\n",
              "            ...    \n",
              "374195       Denied\n",
              "374200       Denied\n",
              "374227    Certified\n",
              "374243    Certified\n",
              "374294    Certified\n",
              "Name: case_status, Length: 128999, dtype: object"
            ]
          },
          "metadata": {},
          "execution_count": 15
        }
      ]
    },
    {
      "cell_type": "markdown",
      "source": [
        "# 4.) Fit and plot a decision tree of depth 3\n"
      ],
      "metadata": {
        "id": "PeurmqI4-OoC"
      }
    },
    {
      "cell_type": "code",
      "source": [
        "from sklearn import tree"
      ],
      "metadata": {
        "id": "udwK0byx-RLA"
      },
      "execution_count": 16,
      "outputs": []
    },
    {
      "cell_type": "code",
      "source": [
        "clf = tree.DecisionTreeClassifier(max_depth = 3)\n",
        "clf.fit(cleanX,y)"
      ],
      "metadata": {
        "colab": {
          "base_uri": "https://localhost:8080/"
        },
        "id": "pALJCaxqu2oF",
        "outputId": "9b8b748d-8606-4577-8e13-06d915bb61fa"
      },
      "execution_count": 30,
      "outputs": [
        {
          "output_type": "execute_result",
          "data": {
            "text/plain": [
              "DecisionTreeClassifier(max_depth=3)"
            ]
          },
          "metadata": {},
          "execution_count": 30
        }
      ]
    },
    {
      "cell_type": "code",
      "source": [
        "plt.figure(figsize = (30,8))\n",
        "tree.plot_tree(clf, feature_names = cleanX.columns, filled = True)"
      ],
      "metadata": {
        "colab": {
          "base_uri": "https://localhost:8080/",
          "height": 615
        },
        "id": "QTlXlC0yu2qN",
        "outputId": "e823792f-bed2-4edc-97d9-5ded446ebd0c"
      },
      "execution_count": 31,
      "outputs": [
        {
          "output_type": "execute_result",
          "data": {
            "text/plain": [
              "[Text(0.5, 0.875, 'wage_offer_from_9089 <= 33.435\\ngini = 0.578\\nsamples = 128999\\nvalue = [60460, 57445, 6206, 4888]'),\n",
              " Text(0.25, 0.625, 'Not in USA <= 0.5\\ngini = 0.692\\nsamples = 6270\\nvalue = [2767, 1399, 1427, 677]'),\n",
              " Text(0.125, 0.375, 'employer_yr_estab <= 1958.5\\ngini = 0.683\\nsamples = 2979\\nvalue = [1101, 502, 1138, 238]'),\n",
              " Text(0.0625, 0.125, 'gini = 0.562\\nsamples = 443\\nvalue = [274, 83, 56, 30]'),\n",
              " Text(0.1875, 0.125, 'gini = 0.678\\nsamples = 2536\\nvalue = [827, 419, 1082, 208]'),\n",
              " Text(0.375, 0.375, 'employer_yr_estab <= 1999.5\\ngini = 0.644\\nsamples = 3291\\nvalue = [1666, 897, 289, 439]'),\n",
              " Text(0.3125, 0.125, 'gini = 0.675\\nsamples = 2300\\nvalue = [940, 822, 185, 353]'),\n",
              " Text(0.4375, 0.125, 'gini = 0.439\\nsamples = 991\\nvalue = [726, 75, 104, 86]'),\n",
              " Text(0.75, 0.625, 'wage_offer_from_9089 <= 81614.5\\ngini = 0.568\\nsamples = 122729\\nvalue = [57693, 56046, 4779, 4211]'),\n",
              " Text(0.625, 0.375, 'wage_offer_from_9089 <= 76328.0\\ngini = 0.603\\nsamples = 39966\\nvalue = [16240, 18905, 2966, 1855]'),\n",
              " Text(0.5625, 0.125, 'gini = 0.614\\nsamples = 32539\\nvalue = [13879, 14348, 2662, 1650]'),\n",
              " Text(0.6875, 0.125, 'gini = 0.52\\nsamples = 7427\\nvalue = [2361, 4557, 304, 205]'),\n",
              " Text(0.875, 0.375, 'wage_offer_from_9089 <= 81983.5\\ngini = 0.546\\nsamples = 82763\\nvalue = [41453, 37141, 1813, 2356]'),\n",
              " Text(0.8125, 0.125, 'gini = 0.117\\nsamples = 2929\\nvalue = [2749, 147, 10, 23]'),\n",
              " Text(0.9375, 0.125, 'gini = 0.549\\nsamples = 79834\\nvalue = [38704, 36994, 1803, 2333]')]"
            ]
          },
          "metadata": {},
          "execution_count": 31
        },
        {
          "output_type": "display_data",
          "data": {
            "text/plain": [
              "<Figure size 2160x576 with 1 Axes>"
            ],
            "image/png": "[encoded data removed]"
          },
          "metadata": {
            "needs_background": "light"
          }
        }
      ]
    },
    {
      "cell_type": "markdown",
      "source": [
        "# 5.) Write your interpretation of the largest (by sample size) leaf node\n"
      ],
      "metadata": {
        "id": "6isBwtmL-R4p"
      }
    },
    {
      "cell_type": "code",
      "source": [
        "# We can see that the largest leaf node is the one with 79834 sample sizes. And it's the leaf node \n",
        "# where the `wage_offer_from_9089` is larger than 81983.5"
      ],
      "metadata": {
        "id": "5gAU63Wc-RWN"
      },
      "execution_count": 32,
      "outputs": []
    },
    {
      "cell_type": "markdown",
      "source": [
        "# 6.) Using a for loop, make your own train-test split and determine the best max_depth for out-of sample accuracy"
      ],
      "metadata": {
        "id": "aQa3sanl-XUk"
      }
    },
    {
      "cell_type": "code",
      "source": [
        "from sklearn.model_selection import train_test_split"
      ],
      "metadata": {
        "id": "xFuVbTrriApB"
      },
      "execution_count": 33,
      "outputs": []
    },
    {
      "cell_type": "code",
      "source": [
        "max_depth = [1,2,3,4,5,6,7,8,9,10,11,12,13,14,15,16,17,18,19,20]\n",
        "outputs = []\n",
        "X_train, X_test, y_train, y_test = train_test_split(cleanX, y, test_size = 0.3)\n",
        "\n",
        "for md in max_depth:\n",
        "  clf = tree.DecisionTreeClassifier(max_depth = md)\n",
        "  clf.fit(X_train,y_train)\n",
        "\n",
        "  oos_accuracy = clf.score(X_test, y_test)\n",
        "  print(\"When the max_depth equals to \" + str(md) + \", the out-of sample accuracy is \" + str(oos_accuracy))\n",
        "  outputs.append(oos_accuracy)"
      ],
      "metadata": {
        "id": "9QA-y6HCslBR",
        "colab": {
          "base_uri": "https://localhost:8080/"
        },
        "outputId": "ed44531f-c6af-4883-c1ea-8b3d4df22ab6"
      },
      "execution_count": 42,
      "outputs": [
        {
          "output_type": "stream",
          "name": "stdout",
          "text": [
            "When the max_depth equals to 1, the out-of sample accuracy is 0.4664082687338501\n",
            "When the max_depth equals to 2, the out-of sample accuracy is 0.4903875968992248\n",
            "When the max_depth equals to 3, the out-of sample accuracy is 0.4921705426356589\n",
            "When the max_depth equals to 4, the out-of sample accuracy is 0.509173126614987\n",
            "When the max_depth equals to 5, the out-of sample accuracy is 0.5082428940568475\n",
            "When the max_depth equals to 6, the out-of sample accuracy is 0.5225322997416021\n",
            "When the max_depth equals to 7, the out-of sample accuracy is 0.5279069767441861\n",
            "When the max_depth equals to 8, the out-of sample accuracy is 0.5303100775193799\n",
            "When the max_depth equals to 9, the out-of sample accuracy is 0.5541602067183462\n",
            "When the max_depth equals to 10, the out-of sample accuracy is 0.5608527131782945\n",
            "When the max_depth equals to 11, the out-of sample accuracy is 0.5656847545219639\n",
            "When the max_depth equals to 12, the out-of sample accuracy is 0.578501291989664\n",
            "When the max_depth equals to 13, the out-of sample accuracy is 0.5841860465116279\n",
            "When the max_depth equals to 14, the out-of sample accuracy is 0.5921963824289406\n",
            "When the max_depth equals to 15, the out-of sample accuracy is 0.5975193798449613\n",
            "When the max_depth equals to 16, the out-of sample accuracy is 0.6016020671834625\n",
            "When the max_depth equals to 17, the out-of sample accuracy is 0.6024289405684754\n",
            "When the max_depth equals to 18, the out-of sample accuracy is 0.6055297157622739\n",
            "When the max_depth equals to 19, the out-of sample accuracy is 0.6088113695090439\n",
            "When the max_depth equals to 20, the out-of sample accuracy is 0.6098966408268733\n"
          ]
        }
      ]
    },
    {
      "cell_type": "code",
      "source": [
        "# We can see that when we have a train test split of 0.3 and max_depth = 20, \n",
        "# the out-of sample accuracy is the highest, which gives 0.6098966408268733"
      ],
      "metadata": {
        "id": "vVaHpqf9wHj7"
      },
      "execution_count": 43,
      "outputs": []
    }
  ]
}